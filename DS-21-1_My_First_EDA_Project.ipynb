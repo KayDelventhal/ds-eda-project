{
 "cells": [
  {
   "cell_type": "markdown",
   "id": "behavioral-kernel",
   "metadata": {},
   "source": [
    "# First Project - EDA #"
   ]
  },
  {
   "cell_type": "markdown",
   "id": "social-margin",
   "metadata": {},
   "source": [
    "The data\n",
    "- The datasets can be found in the respective folders in this repository.\n",
    "- Each folder contains the dataset either as a .csv or .txt file. The description of\n",
    "the column names can be found in the column_names.md files.\n",
    "- The column names may NOT be clear at times:\n"
   ]
  },
  {
   "cell_type": "markdown",
   "id": "ready-sister",
   "metadata": {},
   "source": [
    "Tasks for you\n",
    "1. Create a new repo and a new virtual environment.\n",
    "2. Through EDA/statistical analysis above please come up with AT LEAST 3\n",
    "insights/recommendations for your stakeholder.\n",
    "If you use linear regression in the exploration phase remember that R2\n",
    " close\n",
    "to 1 is good.\n",
    "3. Then, model this dataset with a multivariate linear regression to predict\n",
    "b. For US Bank Wages: The salary (or log(salary)) as accurately as\n",
    "possible. Note you can take either the perspective of an applicant or\n",
    "company.\n",
    "i. Split the dataset into a train and a test set. (use the sklearn split\n",
    "method\n",
    "https://scikit-learn.org/stable/modules/generated/sklearn.mod\n",
    "el_selection.train_test_split.html )\n",
    "ii. Use Root Mean Squared Error (RMSE) as your metric of success\n",
    "and try to minimize this score on your test data."
   ]
  },
  {
   "cell_type": "markdown",
   "id": "serial-karaoke",
   "metadata": {},
   "source": [
    "The Deliverables\n",
    "1. A well documented Jupyter Notebook (see here for an example) containing\n",
    "the code you've written for this project and comments explaining it. This work\n",
    "will need to be pushed to your GitHub repository in order to submit your\n",
    "project (latest upload: 18.02.2020 12:00). Do not push all the analysis... just\n",
    "the analysis that is relevant!\n",
    "2. A Python script for training the model, printing out the model statistics and\n",
    "saving the model.\n",
    "3. An organized README.md file in the GitHub repository that describes the\n",
    "contents of the repository. This file should be the source of information for\n",
    "navigating through the repository.\n",
    "4. A short Keynote/PowerPoint/Google Slides/Jupyter slides presentation\n",
    "giving a high-level overview of your methodology and recommendations for\n",
    "non-technical stakeholders. The duration of the presentation should be 10\n",
    "minutes, then the discussion will continue for 5 minutes. Also put your slides\n",
    "(delivered as a PDF export) on Github to get a well-rounded project"
   ]
  },
  {
   "cell_type": "markdown",
   "id": "reserved-treaty",
   "metadata": {},
   "source": [
    "# Load Data"
   ]
  },
  {
   "cell_type": "code",
   "execution_count": 223,
   "id": "hawaiian-diary",
   "metadata": {},
   "outputs": [],
   "source": [
    "# for better EDA I allow Jupyter to print also intermediate results\n",
    "# -----------------------------------------------------------------\n",
    "\n",
    "from IPython.core.interactiveshell import InteractiveShell\n",
    "InteractiveShell.ast_node_interactivity = \"all\""
   ]
  },
  {
   "cell_type": "code",
   "execution_count": 224,
   "id": "close-capture",
   "metadata": {},
   "outputs": [],
   "source": [
    "# importing of python modules\n",
    "# -------------------------------\n",
    "\n",
    "import numpy as np\n",
    "import pandas as pd\n",
    "import matplotlib.pyplot as plt\n",
    "#from scipy import stats\n",
    "#import seaborn as sns\n",
    "#import statsmodels.api as sm\n",
    "import statsmodels.formula.api as smf\n",
    "from statsmodels.tools.eval_measures import mse, rmse\n",
    "from sklearn.model_selection import train_test_split\n",
    "\n",
    "%matplotlib inline"
   ]
  },
  {
   "cell_type": "code",
   "execution_count": 225,
   "id": "arranged-positive",
   "metadata": {},
   "outputs": [
    {
     "data": {
      "text/plain": [
       "['SALARY', 'EDUC', 'SALBEGIN', 'GENDER', 'MINORITY', 'JOBCAT']"
      ]
     },
     "execution_count": 225,
     "metadata": {},
     "output_type": "execute_result"
    }
   ],
   "source": [
    "# loading project data\n",
    "# --------------------\n",
    "\n",
    "load = pd.read_csv('us_bank_wages/us_bank_wages.txt', delimiter='\\t')\n",
    "list(data.columns)"
   ]
  },
  {
   "cell_type": "code",
   "execution_count": 226,
   "id": "becoming-miami",
   "metadata": {},
   "outputs": [
    {
     "data": {
      "text/plain": [
       "(474, 6)"
      ]
     },
     "execution_count": 226,
     "metadata": {},
     "output_type": "execute_result"
    },
    {
     "data": {
      "text/html": [
       "<div>\n",
       "<style scoped>\n",
       "    .dataframe tbody tr th:only-of-type {\n",
       "        vertical-align: middle;\n",
       "    }\n",
       "\n",
       "    .dataframe tbody tr th {\n",
       "        vertical-align: top;\n",
       "    }\n",
       "\n",
       "    .dataframe thead th {\n",
       "        text-align: right;\n",
       "    }\n",
       "</style>\n",
       "<table border=\"1\" class=\"dataframe\">\n",
       "  <thead>\n",
       "    <tr style=\"text-align: right;\">\n",
       "      <th></th>\n",
       "      <th>SALARY</th>\n",
       "      <th>EDUC</th>\n",
       "      <th>SALBEGIN</th>\n",
       "      <th>GENDER</th>\n",
       "      <th>MINORITY</th>\n",
       "      <th>JOBCAT</th>\n",
       "    </tr>\n",
       "  </thead>\n",
       "  <tbody>\n",
       "    <tr>\n",
       "      <th>0</th>\n",
       "      <td>57000</td>\n",
       "      <td>15</td>\n",
       "      <td>27000</td>\n",
       "      <td>1</td>\n",
       "      <td>0</td>\n",
       "      <td>3</td>\n",
       "    </tr>\n",
       "    <tr>\n",
       "      <th>1</th>\n",
       "      <td>40200</td>\n",
       "      <td>16</td>\n",
       "      <td>18750</td>\n",
       "      <td>1</td>\n",
       "      <td>0</td>\n",
       "      <td>1</td>\n",
       "    </tr>\n",
       "    <tr>\n",
       "      <th>2</th>\n",
       "      <td>21450</td>\n",
       "      <td>12</td>\n",
       "      <td>12000</td>\n",
       "      <td>0</td>\n",
       "      <td>0</td>\n",
       "      <td>1</td>\n",
       "    </tr>\n",
       "    <tr>\n",
       "      <th>3</th>\n",
       "      <td>21900</td>\n",
       "      <td>8</td>\n",
       "      <td>13200</td>\n",
       "      <td>0</td>\n",
       "      <td>0</td>\n",
       "      <td>1</td>\n",
       "    </tr>\n",
       "    <tr>\n",
       "      <th>4</th>\n",
       "      <td>45000</td>\n",
       "      <td>15</td>\n",
       "      <td>21000</td>\n",
       "      <td>1</td>\n",
       "      <td>0</td>\n",
       "      <td>1</td>\n",
       "    </tr>\n",
       "  </tbody>\n",
       "</table>\n",
       "</div>"
      ],
      "text/plain": [
       "   SALARY  EDUC  SALBEGIN  GENDER  MINORITY  JOBCAT\n",
       "0   57000    15     27000       1         0       3\n",
       "1   40200    16     18750       1         0       1\n",
       "2   21450    12     12000       0         0       1\n",
       "3   21900     8     13200       0         0       1\n",
       "4   45000    15     21000       1         0       1"
      ]
     },
     "execution_count": 226,
     "metadata": {},
     "output_type": "execute_result"
    },
    {
     "name": "stdout",
     "output_type": "stream",
     "text": [
      "<class 'pandas.core.frame.DataFrame'>\n",
      "RangeIndex: 474 entries, 0 to 473\n",
      "Data columns (total 6 columns):\n",
      " #   Column    Non-Null Count  Dtype\n",
      "---  ------    --------------  -----\n",
      " 0   SALARY    474 non-null    int64\n",
      " 1   EDUC      474 non-null    int64\n",
      " 2   SALBEGIN  474 non-null    int64\n",
      " 3   GENDER    474 non-null    int64\n",
      " 4   MINORITY  474 non-null    int64\n",
      " 5   JOBCAT    474 non-null    int64\n",
      "dtypes: int64(6)\n",
      "memory usage: 22.3 KB\n"
     ]
    },
    {
     "data": {
      "text/html": [
       "<div>\n",
       "<style scoped>\n",
       "    .dataframe tbody tr th:only-of-type {\n",
       "        vertical-align: middle;\n",
       "    }\n",
       "\n",
       "    .dataframe tbody tr th {\n",
       "        vertical-align: top;\n",
       "    }\n",
       "\n",
       "    .dataframe thead th {\n",
       "        text-align: right;\n",
       "    }\n",
       "</style>\n",
       "<table border=\"1\" class=\"dataframe\">\n",
       "  <thead>\n",
       "    <tr style=\"text-align: right;\">\n",
       "      <th></th>\n",
       "      <th>SALARY</th>\n",
       "      <th>EDUC</th>\n",
       "      <th>SALBEGIN</th>\n",
       "      <th>GENDER</th>\n",
       "      <th>MINORITY</th>\n",
       "      <th>JOBCAT</th>\n",
       "    </tr>\n",
       "  </thead>\n",
       "  <tbody>\n",
       "    <tr>\n",
       "      <th>count</th>\n",
       "      <td>474.000000</td>\n",
       "      <td>474.000000</td>\n",
       "      <td>474.000000</td>\n",
       "      <td>474.000000</td>\n",
       "      <td>474.000000</td>\n",
       "      <td>474.000000</td>\n",
       "    </tr>\n",
       "    <tr>\n",
       "      <th>mean</th>\n",
       "      <td>34419.567511</td>\n",
       "      <td>13.491561</td>\n",
       "      <td>17016.086498</td>\n",
       "      <td>0.544304</td>\n",
       "      <td>0.219409</td>\n",
       "      <td>1.411392</td>\n",
       "    </tr>\n",
       "    <tr>\n",
       "      <th>std</th>\n",
       "      <td>17075.661465</td>\n",
       "      <td>2.884846</td>\n",
       "      <td>7870.638154</td>\n",
       "      <td>0.498559</td>\n",
       "      <td>0.414284</td>\n",
       "      <td>0.773201</td>\n",
       "    </tr>\n",
       "    <tr>\n",
       "      <th>min</th>\n",
       "      <td>15750.000000</td>\n",
       "      <td>8.000000</td>\n",
       "      <td>9000.000000</td>\n",
       "      <td>0.000000</td>\n",
       "      <td>0.000000</td>\n",
       "      <td>1.000000</td>\n",
       "    </tr>\n",
       "    <tr>\n",
       "      <th>25%</th>\n",
       "      <td>24000.000000</td>\n",
       "      <td>12.000000</td>\n",
       "      <td>12487.500000</td>\n",
       "      <td>0.000000</td>\n",
       "      <td>0.000000</td>\n",
       "      <td>1.000000</td>\n",
       "    </tr>\n",
       "    <tr>\n",
       "      <th>50%</th>\n",
       "      <td>28875.000000</td>\n",
       "      <td>12.000000</td>\n",
       "      <td>15000.000000</td>\n",
       "      <td>1.000000</td>\n",
       "      <td>0.000000</td>\n",
       "      <td>1.000000</td>\n",
       "    </tr>\n",
       "    <tr>\n",
       "      <th>75%</th>\n",
       "      <td>36937.500000</td>\n",
       "      <td>15.000000</td>\n",
       "      <td>17490.000000</td>\n",
       "      <td>1.000000</td>\n",
       "      <td>0.000000</td>\n",
       "      <td>1.000000</td>\n",
       "    </tr>\n",
       "    <tr>\n",
       "      <th>max</th>\n",
       "      <td>135000.000000</td>\n",
       "      <td>21.000000</td>\n",
       "      <td>79980.000000</td>\n",
       "      <td>1.000000</td>\n",
       "      <td>1.000000</td>\n",
       "      <td>3.000000</td>\n",
       "    </tr>\n",
       "  </tbody>\n",
       "</table>\n",
       "</div>"
      ],
      "text/plain": [
       "              SALARY        EDUC      SALBEGIN      GENDER    MINORITY  \\\n",
       "count     474.000000  474.000000    474.000000  474.000000  474.000000   \n",
       "mean    34419.567511   13.491561  17016.086498    0.544304    0.219409   \n",
       "std     17075.661465    2.884846   7870.638154    0.498559    0.414284   \n",
       "min     15750.000000    8.000000   9000.000000    0.000000    0.000000   \n",
       "25%     24000.000000   12.000000  12487.500000    0.000000    0.000000   \n",
       "50%     28875.000000   12.000000  15000.000000    1.000000    0.000000   \n",
       "75%     36937.500000   15.000000  17490.000000    1.000000    0.000000   \n",
       "max    135000.000000   21.000000  79980.000000    1.000000    1.000000   \n",
       "\n",
       "           JOBCAT  \n",
       "count  474.000000  \n",
       "mean     1.411392  \n",
       "std      0.773201  \n",
       "min      1.000000  \n",
       "25%      1.000000  \n",
       "50%      1.000000  \n",
       "75%      1.000000  \n",
       "max      3.000000  "
      ]
     },
     "execution_count": 226,
     "metadata": {},
     "output_type": "execute_result"
    }
   ],
   "source": [
    "load.drop('Unnamed: 0', axis=1, inplace=True)\n",
    "load.shape\n",
    "load.head(5)\n",
    "load.info()\n",
    "load.describe()"
   ]
  },
  {
   "cell_type": "markdown",
   "id": "collect-relative",
   "metadata": {},
   "source": [
    "# EDA Start ..."
   ]
  },
  {
   "cell_type": "markdown",
   "id": "horizontal-ratio",
   "metadata": {},
   "source": [
    "# Column Names and descriptions for US Bank Wages data set\n",
    "* **SALARY**:  current yearly salary in dollar [\\$]\n",
    "* **EDUC**: education (number of finished years)\n",
    "* **SALBEGIN**: yearly salary at employee's first position at same bank in dollars [\\$]\n",
    "* **GENDER**: gender variable (0 for females, 1 for males)\n",
    "* **MINORITY**: minority variable (0 for non-minorities, 1 for minorities)\n",
    "* **JOBCAT**: - job category (1 for administrative jobs, 2 for custodial jobs, 3 for management jobs)"
   ]
  },
  {
   "cell_type": "code",
   "execution_count": 227,
   "id": "presidential-absence",
   "metadata": {},
   "outputs": [
    {
     "data": {
      "text/plain": [
       "SALARY      0\n",
       "EDUC        0\n",
       "SALBEGIN    0\n",
       "GENDER      0\n",
       "MINORITY    0\n",
       "JOBCAT      0\n",
       "dtype: int64"
      ]
     },
     "execution_count": 227,
     "metadata": {},
     "output_type": "execute_result"
    },
    {
     "data": {
      "text/plain": [
       "False"
      ]
     },
     "execution_count": 227,
     "metadata": {},
     "output_type": "execute_result"
    }
   ],
   "source": [
    "data = load.copy()\n",
    "\n",
    "# checking for NaN data\n",
    "\n",
    "data.isnull().sum()\n",
    "data.isnull().values.any()\n",
    "\n",
    "# de-skewing - explaination: the SALERY colmuns are right skewed and to compensate for that I use log() \n",
    "# 20210216 - i don't use log() for now do avoid unit conflicts\n",
    "#data.eval('SALARY = log(SALARY)', inplace = True)\n",
    "#data.eval('SALBEGIN = log(SALBEGIN)', inplace = True)\n",
    "\n",
    "# delta is not giving any additional information - I will noit use it any more (2021-02-16)\n",
    "#data.eval('DELTA = SALARY - SALBEGIN', inplace = True) # delta between start salery and salery\n",
    "#data_ext"
   ]
  },
  {
   "cell_type": "code",
   "execution_count": 228,
   "id": "particular-heading",
   "metadata": {},
   "outputs": [
    {
     "data": {
      "text/plain": [
       "\"dummy = pd.get_dummies(work['JOBCAT'], prefix='JOBCAT', drop_first=True)\\nwork = pd.concat([work, dummy], axis=1)\\nif 'JOBCAT' in work.columns.to_list():\\n    work.drop('JOBCAT', axis=1, inplace=True)\\nif 'Unnamed: 0' in work.columns.to_list():\\n    work.drop('Unnamed: 0', axis=1, inplace=True)\""
      ]
     },
     "execution_count": 228,
     "metadata": {},
     "output_type": "execute_result"
    },
    {
     "data": {
      "text/plain": [
       "\"dummy = pd.get_dummies(work['EDUC'], prefix='EDUC', drop_first=True)\\nwork = pd.concat([work, dummy], axis=1)\\nif 'EDUC' in work.columns.to_list():\\n    work.drop('EDUC', axis=1, inplace=True)\\nif 'Unnamed: 0' in work.columns.to_list():\\n    work.drop('Unnamed: 0', axis=1, inplace=True)\""
      ]
     },
     "execution_count": 228,
     "metadata": {},
     "output_type": "execute_result"
    },
    {
     "data": {
      "text/html": [
       "<div>\n",
       "<style scoped>\n",
       "    .dataframe tbody tr th:only-of-type {\n",
       "        vertical-align: middle;\n",
       "    }\n",
       "\n",
       "    .dataframe tbody tr th {\n",
       "        vertical-align: top;\n",
       "    }\n",
       "\n",
       "    .dataframe thead th {\n",
       "        text-align: right;\n",
       "    }\n",
       "</style>\n",
       "<table border=\"1\" class=\"dataframe\">\n",
       "  <thead>\n",
       "    <tr style=\"text-align: right;\">\n",
       "      <th></th>\n",
       "      <th>SALARY</th>\n",
       "      <th>EDUC</th>\n",
       "      <th>SALBEGIN</th>\n",
       "      <th>GENDER</th>\n",
       "      <th>MINORITY</th>\n",
       "      <th>JOBCAT</th>\n",
       "    </tr>\n",
       "  </thead>\n",
       "  <tbody>\n",
       "    <tr>\n",
       "      <th>0</th>\n",
       "      <td>57000</td>\n",
       "      <td>15</td>\n",
       "      <td>27000</td>\n",
       "      <td>1</td>\n",
       "      <td>0</td>\n",
       "      <td>3</td>\n",
       "    </tr>\n",
       "    <tr>\n",
       "      <th>1</th>\n",
       "      <td>40200</td>\n",
       "      <td>16</td>\n",
       "      <td>18750</td>\n",
       "      <td>1</td>\n",
       "      <td>0</td>\n",
       "      <td>1</td>\n",
       "    </tr>\n",
       "    <tr>\n",
       "      <th>2</th>\n",
       "      <td>21450</td>\n",
       "      <td>12</td>\n",
       "      <td>12000</td>\n",
       "      <td>0</td>\n",
       "      <td>0</td>\n",
       "      <td>1</td>\n",
       "    </tr>\n",
       "    <tr>\n",
       "      <th>3</th>\n",
       "      <td>21900</td>\n",
       "      <td>8</td>\n",
       "      <td>13200</td>\n",
       "      <td>0</td>\n",
       "      <td>0</td>\n",
       "      <td>1</td>\n",
       "    </tr>\n",
       "    <tr>\n",
       "      <th>4</th>\n",
       "      <td>45000</td>\n",
       "      <td>15</td>\n",
       "      <td>21000</td>\n",
       "      <td>1</td>\n",
       "      <td>0</td>\n",
       "      <td>1</td>\n",
       "    </tr>\n",
       "  </tbody>\n",
       "</table>\n",
       "</div>"
      ],
      "text/plain": [
       "   SALARY  EDUC  SALBEGIN  GENDER  MINORITY  JOBCAT\n",
       "0   57000    15     27000       1         0       3\n",
       "1   40200    16     18750       1         0       1\n",
       "2   21450    12     12000       0         0       1\n",
       "3   21900     8     13200       0         0       1\n",
       "4   45000    15     21000       1         0       1"
      ]
     },
     "execution_count": 228,
     "metadata": {},
     "output_type": "execute_result"
    }
   ],
   "source": [
    "# work copy of data\n",
    "\n",
    "work = data.copy()\n",
    "\n",
    "# craeting dummy vars - avoiding dummy-trap\n",
    "\n",
    "'''dummy = pd.get_dummies(work['JOBCAT'], prefix='JOBCAT', drop_first=True)\n",
    "work = pd.concat([work, dummy], axis=1)\n",
    "if 'JOBCAT' in work.columns.to_list():\n",
    "    work.drop('JOBCAT', axis=1, inplace=True)\n",
    "if 'Unnamed: 0' in work.columns.to_list():\n",
    "    work.drop('Unnamed: 0', axis=1, inplace=True)'''\n",
    "\n",
    "'''dummy = pd.get_dummies(work['EDUC'], prefix='EDUC', drop_first=True)\n",
    "work = pd.concat([work, dummy], axis=1)\n",
    "if 'EDUC' in work.columns.to_list():\n",
    "    work.drop('EDUC', axis=1, inplace=True)\n",
    "if 'Unnamed: 0' in work.columns.to_list():\n",
    "    work.drop('Unnamed: 0', axis=1, inplace=True)'''\n",
    "   \n",
    "#work = data.copy()\n",
    "work.head()"
   ]
  },
  {
   "cell_type": "markdown",
   "id": "complicated-breath",
   "metadata": {},
   "source": [
    "import warnings\n",
    "warnings.filterwarnings('ignore')\n",
    "fig = plt.figure(figsize = (8,8))\n",
    "ax = fig.gca()\n",
    "data_ext.hist(ax = ax);"
   ]
  },
  {
   "cell_type": "markdown",
   "id": "extreme-working",
   "metadata": {},
   "source": [
    "data_ext.groupby('JOBCAT').SALARY.hist(alpha=0.4)"
   ]
  },
  {
   "cell_type": "code",
   "execution_count": 229,
   "id": "precise-theology",
   "metadata": {},
   "outputs": [],
   "source": [
    "#sns.pairplot(work)"
   ]
  },
  {
   "cell_type": "code",
   "execution_count": 230,
   "id": "delayed-geology",
   "metadata": {},
   "outputs": [
    {
     "data": {
      "text/plain": [
       "<Figure size 720x720 with 0 Axes>"
      ]
     },
     "execution_count": 230,
     "metadata": {},
     "output_type": "execute_result"
    },
    {
     "data": {
      "text/plain": [
       "<AxesSubplot:>"
      ]
     },
     "execution_count": 230,
     "metadata": {},
     "output_type": "execute_result"
    },
    {
     "data": {
      "image/png": "[encoded data removed]",
      "text/plain": [
       "<Figure size 720x720 with 2 Axes>"
      ]
     },
     "metadata": {
      "needs_background": "light"
     },
     "output_type": "display_data"
    }
   ],
   "source": [
    "df_kor = work.corr()\n",
    "\n",
    "plt.figure(figsize=(10,10))\n",
    "\n",
    "sns.heatmap(df_kor, vmin=-1, vmax=1, cmap=\"viridis\", annot=True, linewidth=0.1)"
   ]
  },
  {
   "cell_type": "markdown",
   "id": "brilliant-purpose",
   "metadata": {},
   "source": [
    "### The stackholder ###\n",
    "Is a NGO that works on the integration of war-refugee girls into society.\n",
    "\n",
    "### The task ###\n",
    "The NGO has a suspicion that a curtain bank does not follow it own code of conduct.\n",
    "\n",
    "### The question ###\n",
    "- Would girls with a minority background have the same chances for a fair salery as non-minority women?\n",
    "- Is there an difference in pay between male and female emplyees?\n",
    "- What is the salery based on in the bank?\n",
    "\n",
    "## Hypothesis ##\n",
    "\n",
    "1. Salery depends on edcuation.\n",
    "- H0: B_EDUC = 0\n",
    "- H1: B_EDUC > 0\n",
    "2. Salery depends on staring salery.\n",
    "- H0: B_SALBEGIN = 0\n",
    "- H1: B_SALBEGIN > 0\n",
    "3. Salery depends not on being part of a minority.\n",
    "- H0: B_MINORITY = 0\n",
    "- H1: B_MINORITY > 0\n"
   ]
  },
  {
   "cell_type": "markdown",
   "id": "proprietary-liverpool",
   "metadata": {},
   "source": [
    "We would expect mpg to decrease by 0.047 as horsepower goes up by 1, holding weight constant.\n",
    "\n",
    "We would expect mpg to decrease by 0.006 as weight increases by 1, holding horsepower constant,\n"
   ]
  },
  {
   "cell_type": "code",
   "execution_count": 231,
   "id": "combined-immigration",
   "metadata": {},
   "outputs": [
    {
     "data": {
      "text/plain": [
       "(379, 6)"
      ]
     },
     "execution_count": 231,
     "metadata": {},
     "output_type": "execute_result"
    },
    {
     "data": {
      "text/plain": [
       "(95, 6)"
      ]
     },
     "execution_count": 231,
     "metadata": {},
     "output_type": "execute_result"
    }
   ],
   "source": [
    "# spliting data into train ad test data\n",
    "\n",
    "train, test = train_test_split(work, test_size=0.2, random_state=42, shuffle=True) # random_state = 42 means result can be re-generated \n",
    "\n",
    "train.shape\n",
    "test.shape"
   ]
  },
  {
   "cell_type": "code",
   "execution_count": 232,
   "id": "composed-wages",
   "metadata": {},
   "outputs": [],
   "source": [
    "# !!!!!!!!!!!!!! > > > > > > >  watch out ! exchange work with train  !!!!!!!!!!!!!!!!!!!"
   ]
  },
  {
   "cell_type": "code",
   "execution_count": 236,
   "id": "loving-louisiana",
   "metadata": {},
   "outputs": [
    {
     "data": {
      "text/plain": [
       "['EDUC', 'SALBEGIN', 'GENDER', 'MINORITY', 'JOBCAT']"
      ]
     },
     "execution_count": 236,
     "metadata": {},
     "output_type": "execute_result"
    },
    {
     "name": "stdout",
     "output_type": "stream",
     "text": [
      "EDUC\n",
      "\t    rsquared: 0.4492348651516894\n",
      "\trsquared_adj: 0.44777394967463824\n",
      "\t    f_pvalue: 9.078725684143804e-51\n",
      "SALBEGIN\n",
      "\t    rsquared: 0.7812131394829096\n",
      "\trsquared_adj: 0.7806328029828643\n",
      "\t    f_pvalue: 1.8229693004773198e-126\n",
      "GENDER\n",
      "\t    rsquared: 0.2109923305655248\n",
      "\trsquared_adj: 0.20889947202591086\n",
      "\t    f_pvalue: 3.523498859191208e-21\n",
      "MINORITY\n",
      "\t    rsquared: 0.0314140275695004\n",
      "\trsquared_adj: 0.02884483400867688\n",
      "\t    f_pvalue: 0.000527120608253628\n",
      "JOBCAT\n",
      "\t    rsquared: 0.6186414418746766\n",
      "\trsquared_adj: 0.6176298807125404\n",
      "\t    f_pvalue: 6.286696641267465e-81\n"
     ]
    }
   ],
   "source": [
    "cols = train.columns.to_list()\n",
    "cols.remove('SALARY')\n",
    "cols\n",
    "for col in cols:\n",
    "    print(col)\n",
    "    print('\\t    rsquared:',smf.ols(formula=f'SALARY ~ '+col, data=train).fit().rsquared)\n",
    "    print('\\trsquared_adj:',smf.ols(formula=f'SALARY ~ '+col, data=train).fit().rsquared_adj)\n",
    "    print('\\t    f_pvalue:',smf.ols(formula=f'SALARY ~ '+col, data=train).fit().f_pvalue)"
   ]
  },
  {
   "cell_type": "code",
   "execution_count": 209,
   "id": "optical-passion",
   "metadata": {},
   "outputs": [],
   "source": [
    "#' + '.join([x for x in work.columns.to_list()])"
   ]
  },
  {
   "cell_type": "code",
   "execution_count": 240,
   "id": "amended-checkout",
   "metadata": {},
   "outputs": [
    {
     "data": {
      "text/plain": [
       "8350.315922328793"
      ]
     },
     "execution_count": 240,
     "metadata": {},
     "output_type": "execute_result"
    },
    {
     "data": {
      "text/plain": [
       "2.2670742423589404e-124"
      ]
     },
     "execution_count": 240,
     "metadata": {},
     "output_type": "execute_result"
    },
    {
     "data": {
      "text/plain": [
       "0.7839785249860765"
      ]
     },
     "execution_count": 240,
     "metadata": {},
     "output_type": "execute_result"
    },
    {
     "data": {
      "text/plain": [
       "0.782250353185965"
      ]
     },
     "execution_count": 240,
     "metadata": {},
     "output_type": "execute_result"
    }
   ],
   "source": [
    "var = []\n",
    "var.append(['SALBEGIN','GENDER','C(MINORITY)','C(JOBCAT)','C(EDUC)'])\n",
    "\n",
    "var.append(['SALBEGIN','GENDER','C(MINORITY)','C(JOBCAT)'])\n",
    "var.append(['SALBEGIN','GENDER','C(MINORITY)','C(EDUC)'])\n",
    "var.append(['SALBEGIN','GENDER','C(JOBCAT)','C(EDUC)'])\n",
    "var.append(['SALBEGIN','C(MINORITY)','C(JOBCAT)','C(EDUC)'])\n",
    "var.append(['GENDER','C(MINORITY)','C(JOBCAT)','C(EDUC)'])\n",
    "\n",
    "var.append(['SALBEGIN','GENDER','C(MINORITY)'])\n",
    "var.append(['SALBEGIN','GENDER','C(EDUC)'])\n",
    "var.append(['SALBEGIN','C(JOBCAT)','C(EDUC)'])\n",
    "var.append(['C(MINORITY)','C(JOBCAT)','C(EDUC)'])\n",
    "\n",
    "var.append(['GENDER','C(JOBCAT)','C(EDUC)'])\n",
    "var.append(['GENDER','C(MINORITY)','C(EDUC)'])\n",
    "var.append(['GENDER','C(MINORITY)','C(JOBCAT)'])\n",
    "\n",
    "var.append(['SALBEGIN','GENDER','C(MINORITY)','C(JOBCAT)','C(EDUC)'])\n",
    "var.append(['SALBEGIN','GENDER','C(MINORITY)','C(JOBCAT)','C(EDUC)'])\n",
    "var.append(['SALBEGIN','GENDER','C(MINORITY)','C(JOBCAT)','C(EDUC)'])\n",
    "var.append(['SALBEGIN','GENDER','C(MINORITY)','C(JOBCAT)','C(EDUC)'])\n",
    "var.append(['SALBEGIN','GENDER','C(MINORITY)','C(JOBCAT)','C(EDUC)'])\n",
    "var.append(['SALBEGIN','GENDER','C(MINORITY)','C(JOBCAT)','C(EDUC)'])\n",
    "var.append(['SALBEGIN','GENDER','C(MINORITY)','C(JOBCAT)','C(EDUC)'])\n",
    "var.append(['SALBEGIN','GENDER','C(MINORITY)','C(JOBCAT)','C(EDUC)'])\n",
    "var.append(['SALBEGIN','GENDER','C(MINORITY)','C(JOBCAT)','C(EDUC)'])\n",
    "var.append(['SALBEGIN','GENDER','C(MINORITY)','C(JOBCAT)','C(EDUC)'])\n",
    "var.append(['SALBEGIN','GENDER','C(MINORITY)','C(JOBCAT)','C(EDUC)'])\n",
    "var.append(['SALBEGIN','GENDER','C(MINORITY)','C(JOBCAT)','C(EDUC)'])\n",
    "var.append(['SALBEGIN','GENDER','C(MINORITY)','C(JOBCAT)','C(EDUC)'])\n",
    "var.append(['SALBEGIN','GENDER','C(MINORITY)','C(JOBCAT)','C(EDUC)'])\n",
    "\n",
    "var.append(['C(MINORITY)','C(JOBCAT)','C(EDUC)'])\n",
    "var.append(['SALBEGIN','C(JOBCAT)','C(EDUC)'])\n",
    "var.append(['SALBEGIN','GENDER','C(MINORITY)'])\n",
    "\n",
    "var.append(['C(MINORITY)','C(JOBCAT)','C(EDUC)'])\n",
    "var.append(['GENDER','C(MINORITY)','C(JOBCAT)'])\n",
    "var.append(['GENDER','C(MINORITY)','C(EDUC)'])\n",
    "var.append(['GENDER','C(JOBCAT)','C(EDUC)'])\n",
    "\n",
    "var.append(['SALBEGIN','C(MINORITY)'])\n",
    "var.append(['SALBEGIN','C(JOBCAT)'])\n",
    "var.append(['SALBEGIN','C(EDUC)'])\n",
    "var.append(['SALBEGIN','GENDER',])\n",
    "var.append(['GENDER','C(MINORITY)'])\n",
    "var.append(['GENDER','C(JOBCAT)'])\n",
    "var.append(['GENDER','C(EDUC)'])\n",
    "var.append(['C(MINORITY)','C(JOBCAT)'])\n",
    "var.append(['C(MINORITY)','C(EDUC)'])\n",
    "var.append(['C(JOBCAT)','C(EDUC)'])\n",
    "\n",
    "var.append(['SALBEGIN'])\n",
    "var.append(['GENDER'])\n",
    "var.append(['C(MINORITY)'])\n",
    "var.append(['C(JOBCAT)'])\n",
    "var.append(['C(EDUC)'])\n",
    "               \n",
    "var = list(set(var))\n",
    "\n",
    "h = \"SALARY ~ '\n",
    "res = {}\n",
    "for t in vars:\n",
    "    f = h + ' + '.join(t)\n",
    "    m = smf.ols(formula=f, data=train).fit()\n",
    "    #np.sqrt(m.mse_resid)\n",
    "    #m.f_pvalue\n",
    "    #m.rsquared\n",
    "    res[m.rsquared_adj] = f\n",
    "\n",
    "max(res.keys)\n",
    "res[max(res.keys)] # best fit"
   ]
  },
  {
   "cell_type": "code",
   "execution_count": 239,
   "id": "revised-drama",
   "metadata": {},
   "outputs": [
    {
     "ename": "TypeError",
     "evalue": "'numpy.float64' object is not callable",
     "output_type": "error",
     "traceback": [
      "\u001b[0;31m---------------------------------------------------------------------------\u001b[0m",
      "\u001b[0;31mTypeError\u001b[0m                                 Traceback (most recent call last)",
      "\u001b[0;32m<ipython-input-239-eaa555c646c3>\u001b[0m in \u001b[0;36m<module>\u001b[0;34m\u001b[0m\n\u001b[0;32m----> 1\u001b[0;31m \u001b[0msmf\u001b[0m\u001b[0;34m.\u001b[0m\u001b[0mols\u001b[0m\u001b[0;34m(\u001b[0m\u001b[0mformula\u001b[0m\u001b[0;34m=\u001b[0m\u001b[0mf\u001b[0m\u001b[0;34m,\u001b[0m \u001b[0mdata\u001b[0m\u001b[0;34m=\u001b[0m\u001b[0mtrain\u001b[0m\u001b[0;34m)\u001b[0m\u001b[0;34m.\u001b[0m\u001b[0mfit\u001b[0m\u001b[0;34m(\u001b[0m\u001b[0;34m)\u001b[0m\u001b[0;34m.\u001b[0m\u001b[0mrsquared_adj\u001b[0m\u001b[0;34m(\u001b[0m\u001b[0;34m)\u001b[0m\u001b[0;34m\u001b[0m\u001b[0;34m\u001b[0m\u001b[0m\n\u001b[0m",
      "\u001b[0;31mTypeError\u001b[0m: 'numpy.float64' object is not callable"
     ]
    }
   ],
   "source": [
    "smf.ols(formula=f, data=train).fit().summary()"
   ]
  },
  {
   "cell_type": "code",
   "execution_count": 172,
   "id": "excited-destruction",
   "metadata": {},
   "outputs": [
    {
     "ename": "AttributeError",
     "evalue": "'Series' object has no attribute 'set_index'",
     "output_type": "error",
     "traceback": [
      "\u001b[0;31m---------------------------------------------------------------------------\u001b[0m",
      "\u001b[0;31mAttributeError\u001b[0m                            Traceback (most recent call last)",
      "\u001b[0;32m<ipython-input-172-2e138fca0862>\u001b[0m in \u001b[0;36m<module>\u001b[0;34m\u001b[0m\n\u001b[1;32m      1\u001b[0m \u001b[0mtemp\u001b[0m \u001b[0;34m=\u001b[0m \u001b[0mwork\u001b[0m\u001b[0;34m.\u001b[0m\u001b[0mcopy\u001b[0m\u001b[0;34m(\u001b[0m\u001b[0;34m)\u001b[0m\u001b[0;34m\u001b[0m\u001b[0;34m\u001b[0m\u001b[0m\n\u001b[0;32m----> 2\u001b[0;31m \u001b[0mtg\u001b[0m \u001b[0;34m=\u001b[0m \u001b[0mwork\u001b[0m\u001b[0;34m.\u001b[0m\u001b[0mgroupby\u001b[0m\u001b[0;34m(\u001b[0m\u001b[0;34m'GENDER'\u001b[0m\u001b[0;34m)\u001b[0m\u001b[0;34m.\u001b[0m\u001b[0msize\u001b[0m\u001b[0;34m(\u001b[0m\u001b[0;34m)\u001b[0m\u001b[0;34m.\u001b[0m\u001b[0mset_index\u001b[0m\u001b[0;34m(\u001b[0m\u001b[0;34m)\u001b[0m\u001b[0;34m\u001b[0m\u001b[0;34m\u001b[0m\u001b[0m\n\u001b[0m\u001b[1;32m      3\u001b[0m \u001b[0mtg\u001b[0m\u001b[0;34m\u001b[0m\u001b[0;34m\u001b[0m\u001b[0m\n\u001b[1;32m      4\u001b[0m '''cols = work.columns.to_list()\n\u001b[1;32m      5\u001b[0m \u001b[0mcols\u001b[0m\u001b[0;34m.\u001b[0m\u001b[0mremove\u001b[0m\u001b[0;34m(\u001b[0m\u001b[0;34m'SALARY'\u001b[0m\u001b[0;34m)\u001b[0m\u001b[0;34m\u001b[0m\u001b[0;34m\u001b[0m\u001b[0m\n",
      "\u001b[0;32m~/.pyenv/versions/3.8.5/lib/python3.8/site-packages/pandas/core/generic.py\u001b[0m in \u001b[0;36m__getattr__\u001b[0;34m(self, name)\u001b[0m\n\u001b[1;32m   5460\u001b[0m             \u001b[0;32mif\u001b[0m \u001b[0mself\u001b[0m\u001b[0;34m.\u001b[0m\u001b[0m_info_axis\u001b[0m\u001b[0;34m.\u001b[0m\u001b[0m_can_hold_identifiers_and_holds_name\u001b[0m\u001b[0;34m(\u001b[0m\u001b[0mname\u001b[0m\u001b[0;34m)\u001b[0m\u001b[0;34m:\u001b[0m\u001b[0;34m\u001b[0m\u001b[0;34m\u001b[0m\u001b[0m\n\u001b[1;32m   5461\u001b[0m                 \u001b[0;32mreturn\u001b[0m \u001b[0mself\u001b[0m\u001b[0;34m[\u001b[0m\u001b[0mname\u001b[0m\u001b[0;34m]\u001b[0m\u001b[0;34m\u001b[0m\u001b[0;34m\u001b[0m\u001b[0m\n\u001b[0;32m-> 5462\u001b[0;31m             \u001b[0;32mreturn\u001b[0m \u001b[0mobject\u001b[0m\u001b[0;34m.\u001b[0m\u001b[0m__getattribute__\u001b[0m\u001b[0;34m(\u001b[0m\u001b[0mself\u001b[0m\u001b[0;34m,\u001b[0m \u001b[0mname\u001b[0m\u001b[0;34m)\u001b[0m\u001b[0;34m\u001b[0m\u001b[0;34m\u001b[0m\u001b[0m\n\u001b[0m\u001b[1;32m   5463\u001b[0m \u001b[0;34m\u001b[0m\u001b[0m\n\u001b[1;32m   5464\u001b[0m     \u001b[0;32mdef\u001b[0m \u001b[0m__setattr__\u001b[0m\u001b[0;34m(\u001b[0m\u001b[0mself\u001b[0m\u001b[0;34m,\u001b[0m \u001b[0mname\u001b[0m\u001b[0;34m:\u001b[0m \u001b[0mstr\u001b[0m\u001b[0;34m,\u001b[0m \u001b[0mvalue\u001b[0m\u001b[0;34m)\u001b[0m \u001b[0;34m->\u001b[0m \u001b[0;32mNone\u001b[0m\u001b[0;34m:\u001b[0m\u001b[0;34m\u001b[0m\u001b[0;34m\u001b[0m\u001b[0m\n",
      "\u001b[0;31mAttributeError\u001b[0m: 'Series' object has no attribute 'set_index'"
     ]
    }
   ],
   "source": [
    "temp = train.copy()\n",
    "tg = train.groupby('GENDER').size().reset_index()\n",
    "tg\n",
    "'''cols = work.columns.to_list()\n",
    "cols.remove('SALARY')\n",
    "cols.remove('MINORITY')\n",
    "smf.ols(formula=f'SALARY ~ '+' + '.join(cols), data=work).fit().summary()'''"
   ]
  },
  {
   "cell_type": "code",
   "execution_count": null,
   "id": "motivated-clerk",
   "metadata": {},
   "outputs": [],
   "source": []
  },
  {
   "cell_type": "code",
   "execution_count": null,
   "id": "choice-joyce",
   "metadata": {},
   "outputs": [],
   "source": []
  }
 ],
 "metadata": {
  "kernelspec": {
   "display_name": "Python 3",
   "language": "python",
   "name": "python3"
  },
  "language_info": {
   "codemirror_mode": {
    "name": "ipython",
    "version": 3
   },
   "file_extension": ".py",
   "mimetype": "text/x-python",
   "name": "python",
   "nbconvert_exporter": "python",
   "pygments_lexer": "ipython3",
   "version": "3.8.5"
  }
 },
 "nbformat": 4,
 "nbformat_minor": 5
}
