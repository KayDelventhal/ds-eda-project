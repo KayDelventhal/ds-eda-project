{
 "cells": [
  {
   "cell_type": "code",
   "execution_count": 25,
   "id": "unable-north",
   "metadata": {},
   "outputs": [],
   "source": [
    "import numpy as np\n",
    "import pandas as pd\n",
    "\n",
    "import matplotlib.pyplot as plt\n",
    "import seaborn as sns\n",
    "import altair as alt\n",
    "\n",
    "import statsmodels.api as sm\n",
    "import statsmodels.formula.api as smf\n",
    "\n",
    "from statsmodels.sandbox.regression.predstd import wls_prediction_std\n",
    "from statsmodels.graphics.regressionplots import plot_partregress_grid\n",
    "\n",
    "from statsmodels.tools.eval_measures import mse, rmse\n",
    "from statsmodels.iolib.smpickle import load_pickle\n",
    "\n",
    "from sklearn.model_selection import train_test_split\n",
    "from sklearn.metrics import mean_absolute_error\n",
    "\n",
    "import scipy.stats as stats\n",
    "\n",
    "import warnings\n",
    "warnings.filterwarnings('ignore')\n",
    "\n",
    "%matplotlib inline"
   ]
  },
  {
   "cell_type": "code",
   "execution_count": 26,
   "id": "measured-volunteer",
   "metadata": {},
   "outputs": [],
   "source": [
    "# loading project data\n",
    "data = pd.read_csv('us_bank_wages/us_bank_wages.txt', delimiter='\\t')\n",
    "data.to_csv('us_bank_wages/us_bank_wages_data.csv')"
   ]
  },
  {
   "cell_type": "code",
   "execution_count": 27,
   "id": "elder-queue",
   "metadata": {},
   "outputs": [],
   "source": [
    "# checking for NaN \n",
    "data.isnull().sum()\n",
    "data.isnull().values.any()\n",
    "\n",
    "list(data.columns)\n",
    "data.drop('Unnamed: 0', axis=1, inplace=True)\n",
    "\n",
    "# de-skewing - explaination: the SALERY colmuns are right skewed and to compensate for that I use log() \n",
    "data.eval('LSALARY = log(SALARY)', inplace = True)\n",
    "data.eval('LSALBEGIN = log(SALBEGIN)', inplace = True)"
   ]
  },
  {
   "cell_type": "code",
   "execution_count": 28,
   "id": "applicable-fancy",
   "metadata": {
    "jupyter": {
     "source_hidden": true
    }
   },
   "outputs": [],
   "source": [
    "# make work copy of data\n",
    "\n",
    "work = data.copy();\n",
    "\n",
    "# inside the work copy the coded values are converted to categorical values - for better readability \n",
    "\n",
    "def map_educ(x):\n",
    "    if x == 8: return 'primary'\n",
    "    elif x == 12: return 'secondary'\n",
    "    elif x > 12: return 'university'\n",
    "work['EDUC'] = work.EDUC.apply(map_educ).astype('category')\n",
    "\n",
    "map_dict = {0: 'female', 1:'male'}\n",
    "work['GENDER'] = work['GENDER'].map(map_dict)\n",
    "map_dict = {0: 'non-minorities', 1:'minorities'}\n",
    "work['MINORITY'] = work['MINORITY'].map(map_dict)\n",
    "map_dict = {1: 'administrative', 2:'custodial', 3:'management'}\n",
    "work['JOBCAT'] = work['JOBCAT'].map(map_dict)"
   ]
  },
  {
   "cell_type": "code",
   "execution_count": 29,
   "id": "operating-dispute",
   "metadata": {},
   "outputs": [],
   "source": [
    "# spliting data into train and test data\n",
    "\n",
    "train, test = train_test_split(data, test_size=0.2, random_state=42, shuffle=True) # random_state = seed !!"
   ]
  },
  {
   "cell_type": "code",
   "execution_count": 30,
   "id": "hundred-investigation",
   "metadata": {},
   "outputs": [],
   "source": [
    "# define function for brute force computation of all models\n",
    "def find_best_model(var,log=False):\n",
    "    r = {}\n",
    "    for t in var:\n",
    "        if log:\n",
    "            f = 'LSALARY ~ ' + ' + '.join(t)\n",
    "        else:\n",
    "            f = 'SALARY ~ ' + ' + '.join(t)\n",
    "        m = smf.ols(formula=f, data=train).fit()\n",
    "        r[m.rsquared_adj] = f # m.rsquared, m.f_pvalue, np.sqrt(m.mse_resid)\n",
    "    return r"
   ]
  },
  {
   "cell_type": "code",
   "execution_count": 31,
   "id": "ceramic-holmes",
   "metadata": {},
   "outputs": [],
   "source": [
    "# generate column combinations - to check various models\n",
    "\n",
    "var = []\n",
    "columns = ['SALBEGIN','LSALBEGIN','GENDER','C(MINORITY)','C(JOBCAT)','C(EDUC)']\n",
    "for i in range(len(columns)):\n",
    "    # remove first\n",
    "    cols = columns[i+1:]\n",
    "    # add first to end\n",
    "    cols += columns[:i+1]\n",
    "    #print(cols)\n",
    "    \n",
    "    for i in range(len(cols)):\n",
    "        if not [cols[i]] in var:\n",
    "            var.append([cols[i]])\n",
    "            \n",
    "        c = cols.copy()\n",
    "        c.remove(cols[i])\n",
    "        while len(c):\n",
    "            if not sorted([x for x in c]) in var:\n",
    "                var.append(sorted([x for x in c]))\n",
    "            x = c.pop() # x is only used to have less print-output in JL"
   ]
  },
  {
   "cell_type": "code",
   "execution_count": 43,
   "id": "foster-centre",
   "metadata": {},
   "outputs": [
    {
     "data": {
      "text/plain": [
       "'SALARY ~ C(EDUC) + C(JOBCAT) + SALBEGIN'"
      ]
     },
     "execution_count": 43,
     "metadata": {},
     "output_type": "execute_result"
    }
   ],
   "source": [
    "# run brute force model computation\n",
    "model_fit_results = find_best_model(var,False)\n",
    "\n",
    "# list model fittings - top 10\n",
    "model_fit_result_list = sorted(model_fit_results.keys())[-6:]\n",
    "for fit in model_fit_result_list:\n",
    "    #print('rsquared_adj:', fit, '\\t<-', model_fit_results[fit])\n",
    "    pass\n",
    "    \n",
    "model_fit_use = model_fit_results[model_fit_result_list[-4]]\n",
    "\n",
    "model_fit_use"
   ]
  },
  {
   "cell_type": "code",
   "execution_count": 42,
   "id": "divided-dinner",
   "metadata": {},
   "outputs": [],
   "source": [
    "train_model = smf.ols(formula=model_fit_use, data=train)\n",
    "train_model_fit = train_model.fit()\n",
    "\n",
    "#train_model_fit.params"
   ]
  },
  {
   "cell_type": "code",
   "execution_count": 44,
   "id": "separated-shadow",
   "metadata": {},
   "outputs": [
    {
     "name": "stdout",
     "output_type": "stream",
     "text": [
      "Mean Absolute Error (MAE)        : 4762.818258860782\n",
      "Mean Squared Error (MSE)         : 53924465.39180361\n",
      "Root Mean Squared Error (RMSE)   : 7343.3279507185025\n",
      "Mean Absolute Perc. Error (MAPE) : 13.143136437260466\n"
     ]
    }
   ],
   "source": [
    "train_model_predict = train_model_fit.predict(train);\n",
    "train_model_actual = train['SALARY'].astype(float);\n",
    "\n",
    "print(\"Mean Absolute Error (MAE)        : {}\".format(\n",
    "    mean_absolute_error(train_model_actual, train_model_predict)))\n",
    "print(\"Mean Squared Error (MSE)         : {}\".format(\n",
    "    mse(train_model_actual, train_model_predict)))\n",
    "print(\"Root Mean Squared Error (RMSE)   : {}\".format(\n",
    "    rmse(train_model_actual, train_model_predict)))\n",
    "print(\"Mean Absolute Perc. Error (MAPE) : {}\".format(\n",
    "    np.mean(np.abs((train_model_actual - train_model_predict) / train_model_actual)) * 100))"
   ]
  },
  {
   "cell_type": "code",
   "execution_count": 45,
   "id": "speaking-sender",
   "metadata": {},
   "outputs": [],
   "source": [
    "def save_model(model_fit, file='default.pickle'):\n",
    "    model_fit.save(file)"
   ]
  },
  {
   "cell_type": "code",
   "execution_count": 46,
   "id": "bulgarian-aruba",
   "metadata": {},
   "outputs": [],
   "source": [
    "def read_model(file='default.csv'):\n",
    "    model_fit = load_pickle(file)\n",
    "    return model_fit"
   ]
  },
  {
   "cell_type": "code",
   "execution_count": 47,
   "id": "nearby-venue",
   "metadata": {},
   "outputs": [],
   "source": [
    "def save_csv(data: pd.DataFrame, file='default.csv'):\n",
    "    data.to_csv(file)"
   ]
  },
  {
   "cell_type": "code",
   "execution_count": null,
   "id": "oriented-administration",
   "metadata": {},
   "outputs": [],
   "source": []
  }
 ],
 "metadata": {
  "kernelspec": {
   "display_name": "Python 3",
   "language": "python",
   "name": "python3"
  },
  "language_info": {
   "codemirror_mode": {
    "name": "ipython",
    "version": 3
   },
   "file_extension": ".py",
   "mimetype": "text/x-python",
   "name": "python",
   "nbconvert_exporter": "python",
   "pygments_lexer": "ipython3",
   "version": "3.8.5"
  },
  "widgets": {
   "application/vnd.jupyter.widget-state+json": {
    "state": {},
    "version_major": 2,
    "version_minor": 0
   }
  }
 },
 "nbformat": 4,
 "nbformat_minor": 5
}
